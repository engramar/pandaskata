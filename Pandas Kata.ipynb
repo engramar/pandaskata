{
 "cells": [
  {
   "cell_type": "markdown",
   "metadata": {
    "toc": true
   },
   "source": [
    "<h1>Table of Contents<span class=\"tocSkip\"></span></h1>\n",
    "<div class=\"toc\"><ul class=\"toc-item\"><li><span><a href=\"#Introduction\" data-toc-modified-id=\"Introduction-1\"><span class=\"toc-item-num\">1&nbsp;&nbsp;</span>Introduction</a></span><ul class=\"toc-item\"><li><ul class=\"toc-item\"><li><span><a href=\"#Imports\" data-toc-modified-id=\"Imports-1.0.1\"><span class=\"toc-item-num\">1.0.1&nbsp;&nbsp;</span>Imports</a></span></li><li><span><a href=\"#Config\" data-toc-modified-id=\"Config-1.0.2\"><span class=\"toc-item-num\">1.0.2&nbsp;&nbsp;</span>Config</a></span></li></ul></li></ul></li><li><span><a href=\"#Load/Import-Data\" data-toc-modified-id=\"Load/Import-Data-2\"><span class=\"toc-item-num\">2&nbsp;&nbsp;</span>Load/Import Data</a></span><ul class=\"toc-item\"><li><ul class=\"toc-item\"><li><span><a href=\"#Load-the-order-items-data-into-order_items_df\" data-toc-modified-id=\"Load-the-order-items-data-into-order_items_df-2.0.1\"><span class=\"toc-item-num\">2.0.1&nbsp;&nbsp;</span>Load the order items data into order_items_df</a></span></li><li><span><a href=\"#Inspect-the-first-10-rows\" data-toc-modified-id=\"Inspect-the-first-10-rows-2.0.2\"><span class=\"toc-item-num\">2.0.2&nbsp;&nbsp;</span>Inspect the first 10 rows</a></span></li><li><span><a href=\"#Inspect-the-a-random-sample-of-6-rows\" data-toc-modified-id=\"Inspect-the-a-random-sample-of-6-rows-2.0.3\"><span class=\"toc-item-num\">2.0.3&nbsp;&nbsp;</span>Inspect the a random sample of 6 rows</a></span></li><li><span><a href=\"#Find-the-number-of-non-null-data-points-for-each-column\" data-toc-modified-id=\"Find-the-number-of-non-null-data-points-for-each-column-2.0.4\"><span class=\"toc-item-num\">2.0.4&nbsp;&nbsp;</span>Find the number of non-null data points for each column</a></span></li><li><span><a href=\"#Summarise-the-dataframe\" data-toc-modified-id=\"Summarise-the-dataframe-2.0.5\"><span class=\"toc-item-num\">2.0.5&nbsp;&nbsp;</span>Summarise the dataframe</a></span></li><li><span><a href=\"#Create-customer-data-and-order-data\" data-toc-modified-id=\"Create-customer-data-and-order-data-2.0.6\"><span class=\"toc-item-num\">2.0.6&nbsp;&nbsp;</span>Create customer data and order data</a></span></li><li><span><a href=\"#View-top-10-rows-of-order_df\" data-toc-modified-id=\"View-top-10-rows-of-order_df-2.0.7\"><span class=\"toc-item-num\">2.0.7&nbsp;&nbsp;</span>View top 10 rows of order_df</a></span></li><li><span><a href=\"#Update-the-index-of-order_df-to-&quot;id&quot;-column\" data-toc-modified-id=\"Update-the-index-of-order_df-to-&quot;id&quot;-column-2.0.8\"><span class=\"toc-item-num\">2.0.8&nbsp;&nbsp;</span>Update the index of order_df to \"id\" column</a></span></li><li><span><a href=\"#Rename-columns-in-the-order_df-to-&quot;order_date&quot;,-&quot;payment_method&quot;-and-&quot;customer_id&quot;\" data-toc-modified-id=\"Rename-columns-in-the-order_df-to-&quot;order_date&quot;,-&quot;payment_method&quot;-and-&quot;customer_id&quot;-2.0.9\"><span class=\"toc-item-num\">2.0.9&nbsp;&nbsp;</span>Rename columns in the order_df to \"order_date\", \"payment_method\" and \"customer_id\"</a></span></li></ul></li></ul></li><li><span><a href=\"#Cleaning\" data-toc-modified-id=\"Cleaning-3\"><span class=\"toc-item-num\">3&nbsp;&nbsp;</span>Cleaning</a></span><ul class=\"toc-item\"><li><ul class=\"toc-item\"><li><span><a href=\"#Copy-the-dataframe-for-cleaning\" data-toc-modified-id=\"Copy-the-dataframe-for-cleaning-3.0.1\"><span class=\"toc-item-num\">3.0.1&nbsp;&nbsp;</span>Copy the dataframe for cleaning</a></span></li><li><span><a href=\"#Reformat-the-data-types\" data-toc-modified-id=\"Reformat-the-data-types-3.0.2\"><span class=\"toc-item-num\">3.0.2&nbsp;&nbsp;</span>Reformat the data types</a></span></li><li><span><a href=\"#Summarize-all-columns-in-the-dataFrame\" data-toc-modified-id=\"Summarize-all-columns-in-the-dataFrame-3.0.3\"><span class=\"toc-item-num\">3.0.3&nbsp;&nbsp;</span>Summarize all columns in the dataFrame</a></span></li><li><span><a href=\"#Count-null-values-across-columns\" data-toc-modified-id=\"Count-null-values-across-columns-3.0.4\"><span class=\"toc-item-num\">3.0.4&nbsp;&nbsp;</span>Count null values across columns</a></span></li><li><span><a href=\"#Drop-all-null-values-from-&quot;choice_description&quot;\" data-toc-modified-id=\"Drop-all-null-values-from-&quot;choice_description&quot;-3.0.5\"><span class=\"toc-item-num\">3.0.5&nbsp;&nbsp;</span>Drop all null values from \"choice_description\"</a></span></li><li><span><a href=\"#Create-a-lambda-to-clean-the-&quot;item_price&quot;-and-transform-it-into-a-float\" data-toc-modified-id=\"Create-a-lambda-to-clean-the-&quot;item_price&quot;-and-transform-it-into-a-float-3.0.6\"><span class=\"toc-item-num\">3.0.6&nbsp;&nbsp;</span>Create a lambda to clean the \"item_price\" and transform it into a float</a></span></li></ul></li></ul></li><li><span><a href=\"#Exploration-and-Analysis\" data-toc-modified-id=\"Exploration-and-Analysis-4\"><span class=\"toc-item-num\">4&nbsp;&nbsp;</span>Exploration and Analysis</a></span><ul class=\"toc-item\"><li><ul class=\"toc-item\"><li><span><a href=\"#What-were-the-top-5-most-popular-items-ordered?\" data-toc-modified-id=\"What-were-the-top-5-most-popular-items-ordered?-4.0.1\"><span class=\"toc-item-num\">4.0.1&nbsp;&nbsp;</span>What were the top 5 most popular items ordered?</a></span></li><li><span><a href=\"#What-was-the-most-common-choice-for-&quot;6-Pack-Soft-Drink&quot;?\" data-toc-modified-id=\"What-was-the-most-common-choice-for-&quot;6-Pack-Soft-Drink&quot;?-4.0.2\"><span class=\"toc-item-num\">4.0.2&nbsp;&nbsp;</span>What was the most common choice for \"6 Pack Soft Drink\"?</a></span></li><li><span><a href=\"#What-was-the-average-cost-of-a-&quot;Chicken-Bowl&quot;?\" data-toc-modified-id=\"What-was-the-average-cost-of-a-&quot;Chicken-Bowl&quot;?-4.0.3\"><span class=\"toc-item-num\">4.0.3&nbsp;&nbsp;</span>What was the average cost of a \"Chicken Bowl\"?</a></span></li><li><span><a href=\"#What-was-the-price-per-item,-ordered-most-expensive-to-cheapest?\" data-toc-modified-id=\"What-was-the-price-per-item,-ordered-most-expensive-to-cheapest?-4.0.4\"><span class=\"toc-item-num\">4.0.4&nbsp;&nbsp;</span>What was the price per item, ordered most expensive to cheapest?</a></span></li><li><span><a href=\"#What-was-the-distribution-of-order-costs?\" data-toc-modified-id=\"What-was-the-distribution-of-order-costs?-4.0.5\"><span class=\"toc-item-num\">4.0.5&nbsp;&nbsp;</span>What was the distribution of order costs?</a></span></li><li><span><a href=\"#How-much-did-order_id-1537-cost?\" data-toc-modified-id=\"How-much-did-order_id-1537-cost?-4.0.6\"><span class=\"toc-item-num\">4.0.6&nbsp;&nbsp;</span>How much did order_id 1537 cost?</a></span></li><li><span><a href=\"#How-many-orders-cost-<-$10?\" data-toc-modified-id=\"How-many-orders-cost-<-$10?-4.0.7\"><span class=\"toc-item-num\">4.0.7&nbsp;&nbsp;</span>How many orders cost &lt; $10?</a></span></li></ul></li></ul></li><li><span><a href=\"#Next-Time-on-Pandas-Kata....\" data-toc-modified-id=\"Next-Time-on-Pandas-Kata....-5\"><span class=\"toc-item-num\">5&nbsp;&nbsp;</span>Next Time on Pandas Kata....</a></span></li></ul></div>"
   ]
  },
  {
   "cell_type": "markdown",
   "metadata": {},
   "source": [
    "# Introduction\n",
    "Welcome to the Intro to Pandas Datagenics' Kata! You can refer to the slides for help with the exercises."
   ]
  },
  {
   "cell_type": "markdown",
   "metadata": {},
   "source": [
    "### Imports\n",
    "Import libraries and write settings here. (This is already set up for your with our jupyter set up script!)"
   ]
  },
  {
   "cell_type": "code",
   "execution_count": 3,
   "metadata": {
    "ExecuteTime": {
     "end_time": "2020-10-26T02:48:07.308660Z",
     "start_time": "2020-10-26T02:48:06.959840Z"
    }
   },
   "outputs": [],
   "source": [
    "# Data manipulation\n",
    "import pandas as pd\n",
    "import numpy as np"
   ]
  },
  {
   "cell_type": "markdown",
   "metadata": {},
   "source": [
    "### Config\n",
    "Define global variables and settings."
   ]
  },
  {
   "cell_type": "markdown",
   "metadata": {},
   "source": [
    "# Load/Import Data"
   ]
  },
  {
   "cell_type": "markdown",
   "metadata": {},
   "source": [
    "### Load the order items data into order_items_df"
   ]
  },
  {
   "cell_type": "code",
   "execution_count": 10,
   "metadata": {
    "ExecuteTime": {
     "end_time": "2020-10-26T02:48:14.815021Z",
     "start_time": "2020-10-26T02:48:14.812675Z"
    }
   },
   "outputs": [],
   "source": [
    "url = 'https://raw.githubusercontent.com/justmarkham/DAT8/master/data/chipotle.tsv'\n",
    "\n",
    "order_items_df = pd.read_csv(url, sep='\\t')"
   ]
  },
  {
   "source": [
    "### Inspect theresult = df.head(10)\n",
    "result = order_items_df.head(10) \n",
    "print (result)"
   ],
   "cell_type": "code",
   "metadata": {},
   "execution_count": 40,
   "outputs": [
    {
     "output_type": "stream",
     "name": "stdout",
     "text": [
      "   order_id  quantity                              item_name  \\\n0         1         1           Chips and Fresh Tomato Salsa   \n1         1         1                                   Izze   \n2         1         1                       Nantucket Nectar   \n3         1         1  Chips and Tomatillo-Green Chili Salsa   \n4         2         2                           Chicken Bowl   \n5         3         1                           Chicken Bowl   \n6         3         1                          Side of Chips   \n7         4         1                          Steak Burrito   \n8         4         1                       Steak Soft Tacos   \n9         5         1                          Steak Burrito   \n\n                                  choice_description item_price  \n0                                                NaN     $2.39   \n1                                       [Clementine]     $3.39   \n2                                            [Apple]     $3.39   \n3                                                NaN     $2.39   \n4  [Tomatillo-Red Chili Salsa (Hot), [Black Beans...    $16.98   \n5  [Fresh Tomato Salsa (Mild), [Rice, Cheese, Sou...    $10.98   \n6                                                NaN     $1.69   \n7  [Tomatillo Red Chili Salsa, [Fajita Vegetables...    $11.75   \n8  [Tomatillo Green Chili Salsa, [Pinto Beans, Ch...     $9.25   \n9  [Fresh Tomato Salsa, [Rice, Black Beans, Pinto...     $9.25   \n"
     ]
    }
   ]
  },
  {
   "cell_type": "markdown",
   "metadata": {},
   "source": [
    "### Inspect the a random sample of 6 rows"
   ]
  },
  {
   "cell_type": "code",
   "execution_count": 28,
   "metadata": {
    "ExecuteTime": {
     "end_time": "2020-10-23T06:24:33.183988Z",
     "start_time": "2020-10-23T06:24:33.153393Z"
    }
   },
   "outputs": [],
   "source": [
    "result = order_items_df.sample(6) "
   ]
  },
  {
   "cell_type": "markdown",
   "metadata": {
    "ExecuteTime": {
     "end_time": "2020-10-26T00:24:52.710611Z",
     "start_time": "2020-10-26T00:24:52.692474Z"
    }
   },
   "source": [
    "### Summarise the dataframe\n",
    "\n",
    "**Hint:** Make sure all columns are included "
   ]
  },
  {
   "cell_type": "code",
   "execution_count": 33,
   "metadata": {},
   "outputs": [
    {
     "output_type": "stream",
     "name": "stdout",
     "text": [
      "           order_id     quantity     item_name choice_description item_price\ncount   4622.000000  4622.000000          4622               3376       4622\nunique          NaN          NaN            50               1043         78\ntop             NaN          NaN  Chicken Bowl        [Diet Coke]     $8.75 \nfreq            NaN          NaN           726                134        730\nmean     927.254868     1.075725           NaN                NaN        NaN\nstd      528.890796     0.410186           NaN                NaN        NaN\nmin        1.000000     1.000000           NaN                NaN        NaN\n25%      477.250000     1.000000           NaN                NaN        NaN\n50%      926.000000     1.000000           NaN                NaN        NaN\n75%     1393.000000     1.000000           NaN                NaN        NaN\nmax     1834.000000    15.000000           NaN                NaN        NaN\n"
     ]
    }
   ],
   "source": [
    "result = order_items_df.describe(percentiles=None, include='all', exclude=None, datetime_is_numeric=False)\n",
    "print (result)"
   ]
  },
  {
   "cell_type": "markdown",
   "metadata": {},
   "source": [
    "### Create customer data and order data\n",
    "Just run the following cells"
   ]
  },
  {
   "cell_type": "code",
   "execution_count": 50,
   "metadata": {
    "ExecuteTime": {
     "end_time": "2020-10-26T02:49:12.888516Z",
     "start_time": "2020-10-26T02:49:12.777909Z"
    }
   },
   "outputs": [],
   "source": [
    "import random, string\n",
    "from collections import OrderedDict\n",
    "from faker import Faker\n",
    "\n",
    "Faker.seed(2020)\n",
    "faker = Faker()\n",
    "\n",
    "customer_null_dict = OrderedDict({\n",
    "    'name': 0.05,\n",
    "    'sex': 0.2,\n",
    "    'address': 0.5,\n",
    "    'mail': 0.05,\n",
    "    'birthdate': 0.3\n",
    "})\n",
    "\n",
    "def create_missing_values(row, elements_dict):\n",
    "    nkeys = np.random.randint(0, len(row))\n",
    "    keys = faker.random_elements(elements_dict, length=nkeys, unique=True)\n",
    "    for key in keys:\n",
    "        row[key] = np.nan\n",
    "    return row\n",
    "\n",
    "def generate_customer_profile():\n",
    "    SEX = [\"F\", \"M\"]\n",
    "    \n",
    "    return {\n",
    "            \"name\": f'{faker.first_name()} {faker.last_name()}',\n",
    "            \"sex\": faker.random_element(SEX),\n",
    "            \"address\": faker.address(),\n",
    "            \"mail\": faker.free_email(),\n",
    "            \"birthdate\": faker.date_of_birth(),\n",
    "        }\n",
    "\n",
    "def generate_order_details():\n",
    "    PAYMENT = ['Cash', 'Debit Card', 'Credit Card']\n",
    "    \n",
    "    return {\n",
    "            0: faker.date_this_month(), \n",
    "            1: faker.random_element(PAYMENT), \n",
    "            2: np.random.randint(0, 1000)\n",
    "        }\n",
    "\n",
    "def generate_index(df):\n",
    "    df = df.reset_index().rename(columns={'index':'id'}, errors='raise')\n",
    "    return df"
   ]
  },
  {
   "cell_type": "code",
   "execution_count": 51,
   "metadata": {
    "ExecuteTime": {
     "end_time": "2020-10-26T02:49:27.824619Z",
     "start_time": "2020-10-26T02:49:14.506520Z"
    }
   },
   "outputs": [],
   "source": [
    "order_df = pd.DataFrame()\n",
    "customer_df = pd.DataFrame()\n",
    "\n",
    "for i in range(4000):\n",
    "    customer_profile = generate_customer_profile()\n",
    "    new_row_dict = {**create_missing_values(customer_profile, customer_null_dict)}\n",
    "    customer_df = customer_df.append(new_row_dict, ignore_index=True)\n",
    "\n",
    "for i in range(len(order_items_df)):\n",
    "    order = generate_order_details()\n",
    "    new_row_dict = {**order}\n",
    "    order_df = order_df.append(new_row_dict, ignore_index=True)\n",
    "\n",
    "order_df = generate_index(order_df)\n",
    "customer_df = generate_index(customer_df)"
   ]
  },
  {
   "cell_type": "markdown",
   "metadata": {},
   "source": [
    "### View top 10 rows of order_df"
   ]
  },
  {
   "cell_type": "code",
   "execution_count": 65,
   "metadata": {
    "ExecuteTime": {
     "end_time": "2020-10-26T02:49:48.784849Z",
     "start_time": "2020-10-26T02:49:48.776386Z"
    }
   },
   "outputs": [
    {
     "output_type": "stream",
     "name": "stdout",
     "text": [
      "   index  id  order_date payment_method  customer_id\n0      0   0  2020-11-01    Credit Card         82.0\n1      1   1  2020-11-01    Credit Card        112.0\n2      2   2  2020-11-01    Credit Card        480.0\n3      3   3  2020-11-01    Credit Card        216.0\n4      4   4  2020-11-01           Cash        908.0\n5      5   5  2020-11-01    Credit Card        401.0\n6      6   6  2020-11-01    Credit Card        837.0\n7      7   7  2020-11-01     Debit Card        213.0\n8      8   8  2020-11-01     Debit Card        284.0\n9      9   9  2020-11-01     Debit Card        847.0\n"
     ]
    }
   ],
   "source": [
    "result = order_df.head(10) \n",
    "print (result)"
   ]
  },
  {
   "cell_type": "markdown",
   "metadata": {
    "ExecuteTime": {
     "end_time": "2020-10-14T00:00:29.535765Z",
     "start_time": "2020-10-14T00:00:29.516383Z"
    }
   },
   "source": [
    "### Update the index of order_df to \"id\" column\n",
    "\n",
    "Quick Tip: use the argument `inplace=True` to avoid reassigning variables"
   ]
  },
  {
   "cell_type": "code",
   "execution_count": 57,
   "metadata": {},
   "outputs": [],
   "source": [
    "result = order_df.reset_index(inplace=True)"
   ]
  },
  {
   "cell_type": "markdown",
   "metadata": {},
   "source": [
    "### Rename columns in the order_df to \"order_date\", \"payment_method\" and \"customer_id\""
   ]
  },
  {
   "cell_type": "code",
   "execution_count": 64,
   "metadata": {
    "ExecuteTime": {
     "end_time": "2020-10-26T02:50:24.657461Z",
     "start_time": "2020-10-26T02:50:24.654857Z"
    }
   },
   "outputs": [],
   "source": [
    "#order_df.columns = []\n",
    "order_df = order_df.rename(columns={0: 'order_date', 1: 'payment_method', 2: 'customer_id'})"
   ]
  },
  {
   "cell_type": "markdown",
   "metadata": {},
   "source": [
    "# Cleaning\n",
    "Clean, filter and transform the data here"
   ]
  },
  {
   "cell_type": "markdown",
   "metadata": {},
   "source": [
    "### Copy the dataframe for cleaning\n",
    "(just in case we make a little mistake)"
   ]
  },
  {
   "cell_type": "code",
   "execution_count": 67,
   "metadata": {
    "ExecuteTime": {
     "end_time": "2020-10-23T06:28:09.515991Z",
     "start_time": "2020-10-23T06:28:09.496893Z"
    }
   },
   "outputs": [],
   "source": [
    "df = order_items_df.copy()\n",
    "print (df)"
   ]
  },
  {
   "cell_type": "markdown",
   "metadata": {},
   "source": [
    "### Reformat the data types\n",
    "\n",
    "- Columns containing dates should be converted to datetime type\n",
    "- Columns containing numbers should be converted to float type\n",
    "- Columns containing ids should be converted to int type\n",
    "\n",
    "**hint**: we imported a method from the datagenics package to help you :)"
   ]
  },
  {
   "cell_type": "markdown",
   "metadata": {},
   "source": [
    "### Summarize all columns in the dataFrame "
   ]
  },
  {
   "cell_type": "code",
   "execution_count": null,
   "metadata": {
    "ExecuteTime": {
     "end_time": "2020-10-23T06:28:11.944282Z",
     "start_time": "2020-10-23T06:28:11.903865Z"
    }
   },
   "outputs": [],
   "source": []
  },
  {
   "cell_type": "markdown",
   "metadata": {},
   "source": [
    "### Count null values across columns"
   ]
  },
  {
   "cell_type": "code",
   "execution_count": null,
   "metadata": {
    "ExecuteTime": {
     "end_time": "2020-10-23T06:30:26.442640Z",
     "start_time": "2020-10-23T06:30:26.420345Z"
    }
   },
   "outputs": [],
   "source": []
  },
  {
   "cell_type": "markdown",
   "metadata": {},
   "source": [
    "### Drop all null values from \"choice_description\""
   ]
  },
  {
   "cell_type": "code",
   "execution_count": null,
   "metadata": {
    "ExecuteTime": {
     "end_time": "2020-10-23T06:30:37.628426Z",
     "start_time": "2020-10-23T06:30:37.597606Z"
    }
   },
   "outputs": [],
   "source": []
  },
  {
   "cell_type": "markdown",
   "metadata": {
    "ExecuteTime": {
     "end_time": "2020-10-14T00:12:16.061596Z",
     "start_time": "2020-10-14T00:12:16.043261Z"
    }
   },
   "source": [
    "### Create a lambda to clean the \"item_price\" and transform it into a float\n",
    "\n",
    "Replace the current values with the cleaned values"
   ]
  },
  {
   "cell_type": "code",
   "execution_count": null,
   "metadata": {
    "ExecuteTime": {
     "end_time": "2020-10-25T23:57:36.458299Z",
     "start_time": "2020-10-25T23:57:36.431603Z"
    }
   },
   "outputs": [],
   "source": []
  },
  {
   "cell_type": "markdown",
   "metadata": {},
   "source": [
    "# Exploration and Analysis\n",
    "Now let's take a deeper dive into the data"
   ]
  },
  {
   "cell_type": "markdown",
   "metadata": {
    "ExecuteTime": {
     "end_time": "2020-10-14T00:39:10.834031Z",
     "start_time": "2020-10-14T00:39:10.801432Z"
    }
   },
   "source": [
    "### What were the top 5 most popular items ordered?"
   ]
  },
  {
   "cell_type": "code",
   "execution_count": null,
   "metadata": {
    "ExecuteTime": {
     "end_time": "2020-10-25T23:58:21.317861Z",
     "start_time": "2020-10-25T23:58:21.293521Z"
    }
   },
   "outputs": [],
   "source": []
  },
  {
   "cell_type": "markdown",
   "metadata": {},
   "source": [
    "### What was the most common choice for \"6 Pack Soft Drink\"?"
   ]
  },
  {
   "cell_type": "code",
   "execution_count": null,
   "metadata": {
    "ExecuteTime": {
     "end_time": "2020-10-26T00:00:40.216224Z",
     "start_time": "2020-10-26T00:00:40.193434Z"
    }
   },
   "outputs": [],
   "source": []
  },
  {
   "cell_type": "markdown",
   "metadata": {},
   "source": [
    "### What was the average cost of a \"Chicken Bowl\"?"
   ]
  },
  {
   "cell_type": "code",
   "execution_count": null,
   "metadata": {
    "ExecuteTime": {
     "end_time": "2020-10-26T00:01:12.012983Z",
     "start_time": "2020-10-26T00:01:11.972027Z"
    }
   },
   "outputs": [],
   "source": []
  },
  {
   "cell_type": "markdown",
   "metadata": {},
   "source": [
    "### What was the price per item, ordered most expensive to cheapest?\n",
    "\n",
    "**Hint** use .sort_values() to sort dataFrame"
   ]
  },
  {
   "cell_type": "code",
   "execution_count": null,
   "metadata": {
    "ExecuteTime": {
     "end_time": "2020-10-26T00:10:33.422469Z",
     "start_time": "2020-10-26T00:10:33.376669Z"
    }
   },
   "outputs": [],
   "source": []
  },
  {
   "cell_type": "markdown",
   "metadata": {},
   "source": [
    "### What was the distribution of order costs?"
   ]
  },
  {
   "cell_type": "code",
   "execution_count": null,
   "metadata": {
    "ExecuteTime": {
     "end_time": "2020-10-26T00:12:04.685245Z",
     "start_time": "2020-10-26T00:12:04.464646Z"
    }
   },
   "outputs": [],
   "source": []
  },
  {
   "cell_type": "markdown",
   "metadata": {},
   "source": [
    "### How much did order_id 1537 cost?"
   ]
  },
  {
   "cell_type": "code",
   "execution_count": null,
   "metadata": {
    "ExecuteTime": {
     "end_time": "2020-10-26T00:13:45.127499Z",
     "start_time": "2020-10-26T00:13:45.106145Z"
    }
   },
   "outputs": [],
   "source": []
  },
  {
   "cell_type": "markdown",
   "metadata": {},
   "source": [
    "### How many orders cost < $10?"
   ]
  },
  {
   "cell_type": "code",
   "execution_count": null,
   "metadata": {
    "ExecuteTime": {
     "end_time": "2020-10-26T00:14:51.011771Z",
     "start_time": "2020-10-26T00:14:50.783476Z"
    }
   },
   "outputs": [],
   "source": []
  },
  {
   "cell_type": "markdown",
   "metadata": {},
   "source": [
    "# Next Time on Pandas Kata....\n",
    "Create features based on data"
   ]
  },
  {
   "cell_type": "code",
   "execution_count": null,
   "metadata": {},
   "outputs": [],
   "source": []
  }
 ],
 "metadata": {
  "kernelspec": {
   "name": "Python 3.9.0 64-bit",
   "display_name": "Python 3.9.0 64-bit",
   "metadata": {
    "interpreter": {
     "hash": "09f45fb1f061abe5272c0896683c7b611f75ef9f037dc560606330190a642ceb"
    }
   }
  },
  "language_info": {
   "codemirror_mode": {
    "name": "ipython",
    "version": 3
   },
   "file_extension": ".py",
   "mimetype": "text/x-python",
   "name": "python",
   "nbconvert_exporter": "python",
   "pygments_lexer": "ipython3",
   "version": "3.9.0-final"
  },
  "toc": {
   "base_numbering": 1,
   "nav_menu": {},
   "number_sections": true,
   "sideBar": true,
   "skip_h1_title": false,
   "title_cell": "Table of Contents",
   "title_sidebar": "Contents",
   "toc_cell": true,
   "toc_position": {},
   "toc_section_display": true,
   "toc_window_display": false
  },
  "varInspector": {
   "cols": {
    "lenName": 16,
    "lenType": 16,
    "lenVar": 40
   },
   "kernels_config": {
    "python": {
     "delete_cmd_postfix": "",
     "delete_cmd_prefix": "del ",
     "library": "var_list.py",
     "varRefreshCmd": "print(var_dic_list())"
    },
    "r": {
     "delete_cmd_postfix": ") ",
     "delete_cmd_prefix": "rm(",
     "library": "var_list.r",
     "varRefreshCmd": "cat(var_dic_list()) "
    }
   },
   "types_to_exclude": [
    "module",
    "function",
    "builtin_function_or_method",
    "instance",
    "_Feature"
   ],
   "window_display": false
  }
 },
 "nbformat": 4,
 "nbformat_minor": 4
}